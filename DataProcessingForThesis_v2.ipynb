{
  "nbformat": 4,
  "nbformat_minor": 0,
  "metadata": {
    "colab": {
      "name": "DataProcessingForThesis-v2.ipynb",
      "provenance": []
    },
    "kernelspec": {
      "name": "python3",
      "display_name": "Python 3"
    },
    "language_info": {
      "name": "python"
    }
  },
  "cells": [
    {
      "cell_type": "markdown",
      "source": [
        "### SECTIONING DATA FOR DAILY, HOURLY, HALF HOURLY, FIFTEEN MINUTES AND FIVE MINUTES ###"
      ],
      "metadata": {
        "id": "aQzaTbiaRjcr"
      }
    },
    {
      "cell_type": "code",
      "execution_count": null,
      "metadata": {
        "id": "Gh1qyiVvj1m2",
        "colab": {
          "base_uri": "https://localhost:8080/"
        },
        "outputId": "0692798d-cc1d-41ac-a944-398aa4599005"
      },
      "outputs": [
        {
          "output_type": "stream",
          "name": "stdout",
          "text": [
            "Drive already mounted at /content/drive; to attempt to forcibly remount, call drive.mount(\"/content/drive\", force_remount=True).\n"
          ]
        }
      ],
      "source": [
        "### import all required libraries\n",
        "import pandas as pd\n",
        "import numpy as np\n",
        "\n",
        "from datetime import datetime\n",
        "custom_date_parser = lambda x: datetime.strptime(x, \"%H:%M:%S\")\n",
        "\n",
        "from google.colab import drive\n",
        "drive.mount('/content/drive')\n",
        "\n",
        "import datetime\n",
        "from datetime import datetime\n",
        "time = datetime.now()\n",
        "from datetime import datetime, date, time, timedelta"
      ]
    },
    {
      "cell_type": "code",
      "source": [
        "### Load the files\n",
        "df = pd.read_csv('/content/1 - Copy (7).csv',parse_dates=['time'],date_parser=custom_date_parser)\n",
        "print (df)"
      ],
      "metadata": {
        "id": "YmMxMmrmleT5",
        "colab": {
          "base_uri": "https://localhost:8080/"
        },
        "outputId": "ecd52bb4-61b4-4f2f-9cc0-36f3ca0fd885"
      },
      "execution_count": null,
      "outputs": [
        {
          "output_type": "stream",
          "name": "stdout",
          "text": [
            "      timeOfData                time\n",
            "0      10/7/2020 1900-01-01 00:01:43\n",
            "1      10/7/2020 1900-01-01 00:02:31\n",
            "2      10/7/2020 1900-01-01 00:03:53\n",
            "3      10/7/2020 1900-01-01 00:02:01\n",
            "4      10/7/2020 1900-01-01 00:13:29\n",
            "...          ...                 ...\n",
            "21808  31/7/2020 1900-01-01 23:54:38\n",
            "21809  31/7/2020 1900-01-01 23:58:41\n",
            "21810  31/7/2020 1900-01-01 23:58:57\n",
            "21811  31/7/2020 1900-01-01 23:59:31\n",
            "21812  31/7/2020 1900-01-01 23:59:40\n",
            "\n",
            "[21813 rows x 2 columns]\n"
          ]
        }
      ]
    },
    {
      "cell_type": "code",
      "source": [
        "### Load the files\n",
        "#df = pd.read_csv('/content/combined-csv-files.csv',parse_dates=['time'],date_parser=custom_date_parser)\n",
        "#print (df)"
      ],
      "metadata": {
        "id": "C5FY87wblOy1"
      },
      "execution_count": null,
      "outputs": []
    },
    {
      "cell_type": "code",
      "source": [
        "### Find daily count\n",
        "daily_count = df.groupby(['timeOfData']).count()"
      ],
      "metadata": {
        "id": "0O5i9i-vmQGs"
      },
      "execution_count": null,
      "outputs": []
    },
    {
      "cell_type": "code",
      "source": [
        "### Find the hourly count\n",
        "x = 0\n",
        "start='0:00:00'\n",
        "end='1:00:00'\n",
        "stop='1900-01-02 00:00:00'\n",
        "start = datetime.strptime(start,'%H:%M:%S')\n",
        "end=  datetime.strptime(end,'%H:%M:%S')\n",
        "stop=  datetime.strptime(stop,'%Y-%m-%d %H:%M:%S')\n",
        "hours = 1\n",
        "hours_added = timedelta(hours = hours)\n",
        "hour_dataframe = pd.DataFrame()\n",
        "while start<end and end<=stop:\n",
        "  for i in range(len(df)):\n",
        "    if df['time'][i] > start and df['time'][i] <= end:\n",
        "      x = x+1\n",
        "  hour_dataframe = hour_dataframe.append([[start,end,x]])\n",
        "  x=0\n",
        "  start = start + hours_added\n",
        "  end = end + hours_added\n",
        "\n",
        "print(hour_dataframe)\n"
      ],
      "metadata": {
        "id": "iAtI3TCZCiyZ",
        "colab": {
          "base_uri": "https://localhost:8080/"
        },
        "outputId": "acaa729e-17e4-45f0-f588-6345145b5970"
      },
      "execution_count": null,
      "outputs": [
        {
          "output_type": "stream",
          "name": "stdout",
          "text": [
            "                    0                   1     2\n",
            "0 1900-01-01 00:00:00 1900-01-01 01:00:00   492\n",
            "0 1900-01-01 01:00:00 1900-01-01 02:00:00   402\n",
            "0 1900-01-01 02:00:00 1900-01-01 03:00:00   325\n",
            "0 1900-01-01 03:00:00 1900-01-01 04:00:00   341\n",
            "0 1900-01-01 04:00:00 1900-01-01 05:00:00   342\n",
            "0 1900-01-01 05:00:00 1900-01-01 06:00:00   367\n",
            "0 1900-01-01 06:00:00 1900-01-01 07:00:00   497\n",
            "0 1900-01-01 07:00:00 1900-01-01 08:00:00   793\n",
            "0 1900-01-01 08:00:00 1900-01-01 09:00:00  1565\n",
            "0 1900-01-01 09:00:00 1900-01-01 10:00:00  1498\n",
            "0 1900-01-01 10:00:00 1900-01-01 11:00:00  1452\n",
            "0 1900-01-01 11:00:00 1900-01-01 12:00:00  1271\n",
            "0 1900-01-01 12:00:00 1900-01-01 13:00:00  1590\n",
            "0 1900-01-01 13:00:00 1900-01-01 14:00:00  1283\n",
            "0 1900-01-01 14:00:00 1900-01-01 15:00:00  1224\n",
            "0 1900-01-01 15:00:00 1900-01-01 16:00:00  1436\n",
            "0 1900-01-01 16:00:00 1900-01-01 17:00:00   891\n",
            "0 1900-01-01 17:00:00 1900-01-01 18:00:00  1015\n",
            "0 1900-01-01 18:00:00 1900-01-01 19:00:00   868\n",
            "0 1900-01-01 19:00:00 1900-01-01 20:00:00   925\n",
            "0 1900-01-01 20:00:00 1900-01-01 21:00:00   652\n",
            "0 1900-01-01 21:00:00 1900-01-01 22:00:00   802\n",
            "0 1900-01-01 22:00:00 1900-01-01 23:00:00  1008\n",
            "0 1900-01-01 23:00:00 1900-01-02 00:00:00   774\n"
          ]
        }
      ]
    },
    {
      "cell_type": "code",
      "source": [
        "### Find the halfhourly count\n",
        "x = 0\n",
        "start='0:00:00'\n",
        "end='0:30:00'\n",
        "stop='1900-01-02 00:00:00'\n",
        "start = datetime.strptime(start,'%H:%M:%S')\n",
        "end=  datetime.strptime(end,'%H:%M:%S')\n",
        "stop=  datetime.strptime(stop,'%Y-%m-%d %H:%M:%S')\n",
        "mins = 30\n",
        "mins_added = timedelta(minutes = mins)\n",
        "halfhour_dataframe = pd.DataFrame()\n",
        "while start<end and end<=stop:\n",
        "  for i in range(len(df)):\n",
        "    if df['time'][i] > start and df['time'][i] <= end:\n",
        "      x = x+1\n",
        "  halfhour_dataframe = halfhour_dataframe.append([[start,end,x]])\n",
        "  x=0\n",
        "  start = start + mins_added\n",
        "  end = end + mins_added\n",
        "\n",
        "print(halfhour_dataframe)\n"
      ],
      "metadata": {
        "id": "RZU_CXLNI_WT",
        "colab": {
          "base_uri": "https://localhost:8080/"
        },
        "outputId": "00fdf01d-e623-400b-dcd0-faf9039d61de"
      },
      "execution_count": null,
      "outputs": [
        {
          "output_type": "stream",
          "name": "stdout",
          "text": [
            "                    0                   1    2\n",
            "0 1900-01-01 00:00:00 1900-01-01 00:30:00  284\n",
            "0 1900-01-01 00:30:00 1900-01-01 01:00:00  208\n",
            "0 1900-01-01 01:00:00 1900-01-01 01:30:00  214\n",
            "0 1900-01-01 01:30:00 1900-01-01 02:00:00  188\n",
            "0 1900-01-01 02:00:00 1900-01-01 02:30:00  168\n",
            "0 1900-01-01 02:30:00 1900-01-01 03:00:00  157\n",
            "0 1900-01-01 03:00:00 1900-01-01 03:30:00  189\n",
            "0 1900-01-01 03:30:00 1900-01-01 04:00:00  152\n",
            "0 1900-01-01 04:00:00 1900-01-01 04:30:00  209\n",
            "0 1900-01-01 04:30:00 1900-01-01 05:00:00  133\n",
            "0 1900-01-01 05:00:00 1900-01-01 05:30:00  195\n",
            "0 1900-01-01 05:30:00 1900-01-01 06:00:00  172\n",
            "0 1900-01-01 06:00:00 1900-01-01 06:30:00  260\n",
            "0 1900-01-01 06:30:00 1900-01-01 07:00:00  237\n",
            "0 1900-01-01 07:00:00 1900-01-01 07:30:00  363\n",
            "0 1900-01-01 07:30:00 1900-01-01 08:00:00  430\n",
            "0 1900-01-01 08:00:00 1900-01-01 08:30:00  781\n",
            "0 1900-01-01 08:30:00 1900-01-01 09:00:00  784\n",
            "0 1900-01-01 09:00:00 1900-01-01 09:30:00  763\n",
            "0 1900-01-01 09:30:00 1900-01-01 10:00:00  735\n",
            "0 1900-01-01 10:00:00 1900-01-01 10:30:00  742\n",
            "0 1900-01-01 10:30:00 1900-01-01 11:00:00  710\n",
            "0 1900-01-01 11:00:00 1900-01-01 11:30:00  592\n",
            "0 1900-01-01 11:30:00 1900-01-01 12:00:00  679\n",
            "0 1900-01-01 12:00:00 1900-01-01 12:30:00  774\n",
            "0 1900-01-01 12:30:00 1900-01-01 13:00:00  816\n",
            "0 1900-01-01 13:00:00 1900-01-01 13:30:00  713\n",
            "0 1900-01-01 13:30:00 1900-01-01 14:00:00  570\n",
            "0 1900-01-01 14:00:00 1900-01-01 14:30:00  658\n",
            "0 1900-01-01 14:30:00 1900-01-01 15:00:00  566\n",
            "0 1900-01-01 15:00:00 1900-01-01 15:30:00  663\n",
            "0 1900-01-01 15:30:00 1900-01-01 16:00:00  773\n",
            "0 1900-01-01 16:00:00 1900-01-01 16:30:00  494\n",
            "0 1900-01-01 16:30:00 1900-01-01 17:00:00  397\n",
            "0 1900-01-01 17:00:00 1900-01-01 17:30:00  463\n",
            "0 1900-01-01 17:30:00 1900-01-01 18:00:00  552\n",
            "0 1900-01-01 18:00:00 1900-01-01 18:30:00  399\n",
            "0 1900-01-01 18:30:00 1900-01-01 19:00:00  469\n",
            "0 1900-01-01 19:00:00 1900-01-01 19:30:00  496\n",
            "0 1900-01-01 19:30:00 1900-01-01 20:00:00  429\n",
            "0 1900-01-01 20:00:00 1900-01-01 20:30:00  341\n",
            "0 1900-01-01 20:30:00 1900-01-01 21:00:00  311\n",
            "0 1900-01-01 21:00:00 1900-01-01 21:30:00  373\n",
            "0 1900-01-01 21:30:00 1900-01-01 22:00:00  429\n",
            "0 1900-01-01 22:00:00 1900-01-01 22:30:00  443\n",
            "0 1900-01-01 22:30:00 1900-01-01 23:00:00  565\n",
            "0 1900-01-01 23:00:00 1900-01-01 23:30:00  407\n",
            "0 1900-01-01 23:30:00 1900-01-02 00:00:00  367\n"
          ]
        }
      ]
    },
    {
      "cell_type": "code",
      "source": [
        "### Find the fifteen minutes count\n",
        "x = 0\n",
        "start='0:00:00'\n",
        "end='0:15:00'\n",
        "stop='1900-01-02 00:00:00'\n",
        "start = datetime.strptime(start,'%H:%M:%S')\n",
        "end=  datetime.strptime(end,'%H:%M:%S')\n",
        "stop=  datetime.strptime(stop,'%Y-%m-%d %H:%M:%S')\n",
        "mins = 15\n",
        "mins_added = timedelta(minutes = mins)\n",
        "fifteenmins_dataframe = pd.DataFrame()\n",
        "while start<end and end<=stop:\n",
        "  for i in range(len(df)):\n",
        "    if df['time'][i] > start and df['time'][i] <= end:\n",
        "      x = x+1\n",
        "  fifteenmins_dataframe = fifteenmins_dataframe.append([[start,end,x]])\n",
        "  x=0\n",
        "  start = start + mins_added\n",
        "  end = end + mins_added\n",
        "\n",
        "print(fifteenmins_dataframe)\n"
      ],
      "metadata": {
        "id": "vQbex_d_OZlX",
        "colab": {
          "base_uri": "https://localhost:8080/"
        },
        "outputId": "41b352e7-eff5-4a05-fcff-ef56fc9e0b30"
      },
      "execution_count": null,
      "outputs": [
        {
          "output_type": "stream",
          "name": "stdout",
          "text": [
            "                     0                   1    2\n",
            "0  1900-01-01 00:00:00 1900-01-01 00:15:00  174\n",
            "0  1900-01-01 00:15:00 1900-01-01 00:30:00  110\n",
            "0  1900-01-01 00:30:00 1900-01-01 00:45:00   97\n",
            "0  1900-01-01 00:45:00 1900-01-01 01:00:00  111\n",
            "0  1900-01-01 01:00:00 1900-01-01 01:15:00   92\n",
            "..                 ...                 ...  ...\n",
            "0  1900-01-01 22:45:00 1900-01-01 23:00:00  292\n",
            "0  1900-01-01 23:00:00 1900-01-01 23:15:00  225\n",
            "0  1900-01-01 23:15:00 1900-01-01 23:30:00  182\n",
            "0  1900-01-01 23:30:00 1900-01-01 23:45:00  198\n",
            "0  1900-01-01 23:45:00 1900-01-02 00:00:00  169\n",
            "\n",
            "[96 rows x 3 columns]\n"
          ]
        }
      ]
    },
    {
      "cell_type": "code",
      "source": [
        "### Find the five minutes count\n",
        "x = 0\n",
        "start='0:00:00'\n",
        "end='0:05:00'\n",
        "stop='1900-01-02 00:00:00'\n",
        "start = datetime.strptime(start,'%H:%M:%S')\n",
        "end=  datetime.strptime(end,'%H:%M:%S')\n",
        "stop=  datetime.strptime(stop,'%Y-%m-%d %H:%M:%S')\n",
        "mins = 5\n",
        "mins_added = timedelta(minutes = mins)\n",
        "fivemins_dataframe = pd.DataFrame()\n",
        "while start<end and end<=stop:\n",
        "  for i in range(len(df)):\n",
        "    if df['time'][i] > start and df['time'][i] <= end:\n",
        "      x = x+1\n",
        "  fivemins_dataframe = fivemins_dataframe.append([[start,end,x]])\n",
        "  x=0\n",
        "  start = start + mins_added\n",
        "  end = end + mins_added\n",
        "\n",
        "print(fivemins_dataframe)\n"
      ],
      "metadata": {
        "colab": {
          "base_uri": "https://localhost:8080/"
        },
        "id": "7YXJ6DIiPoJs",
        "outputId": "6dbd320a-8355-4c87-acbd-452272630cce"
      },
      "execution_count": null,
      "outputs": [
        {
          "output_type": "stream",
          "name": "stdout",
          "text": [
            "                     0                   1   2\n",
            "0  1900-01-01 00:00:00 1900-01-01 00:05:00  75\n",
            "0  1900-01-01 00:05:00 1900-01-01 00:10:00  52\n",
            "0  1900-01-01 00:10:00 1900-01-01 00:15:00  47\n",
            "0  1900-01-01 00:15:00 1900-01-01 00:20:00  33\n",
            "0  1900-01-01 00:20:00 1900-01-01 00:25:00  40\n",
            "..                 ...                 ...  ..\n",
            "0  1900-01-01 23:35:00 1900-01-01 23:40:00  79\n",
            "0  1900-01-01 23:40:00 1900-01-01 23:45:00  70\n",
            "0  1900-01-01 23:45:00 1900-01-01 23:50:00  63\n",
            "0  1900-01-01 23:50:00 1900-01-01 23:55:00  42\n",
            "0  1900-01-01 23:55:00 1900-01-02 00:00:00  64\n",
            "\n",
            "[288 rows x 3 columns]\n"
          ]
        }
      ]
    },
    {
      "cell_type": "code",
      "source": [
        "###save the results of the count to drive\n",
        "hour_dataframe.to_csv('/content/drive/My Drive/Results/July20Apt1_hour.csv')\n",
        "halfhour_dataframe.to_csv('/content/drive/My Drive/Results/July20Apt1_halfhour.csv')\n",
        "fifteenmins_dataframe.to_csv('/content/drive/My Drive/Results/July20Apt1_fifteenmins.csv')\n",
        "fivemins_dataframe.to_csv('/content/drive/My Drive/Results/July20Apt1_fivemins.csv')\n",
        "daily_count.to_csv('/content/drive/My Drive/Results/July20Apt1_daily.csv')"
      ],
      "metadata": {
        "id": "lQpThCytgPnM"
      },
      "execution_count": null,
      "outputs": []
    },
    {
      "cell_type": "code",
      "source": [
        "### Find the five minutes count\n",
        "x = 0\n",
        "start='0:00:00'\n",
        "end='0:01:00'\n",
        "stop='1900-01-02 00:00:00'\n",
        "start = datetime.strptime(start,'%H:%M:%S')\n",
        "end=  datetime.strptime(end,'%H:%M:%S')\n",
        "stop=  datetime.strptime(stop,'%Y-%m-%d %H:%M:%S')\n",
        "mins = 1\n",
        "mins_added = timedelta(minutes = mins)\n",
        "onemins_dataframe = pd.DataFrame()\n",
        "while start<end and end<=stop:\n",
        "  for i in range(len(df)):\n",
        "    if df['time'][i] > start and df['time'][i] <= end:\n",
        "      x = x+1\n",
        "  onemins_dataframe = onemins_dataframe.append([[start,end,x]])\n",
        "  x=0\n",
        "  start = start + mins_added\n",
        "  end = end + mins_added\n",
        "\n",
        "print(onemins_dataframe)\n"
      ],
      "metadata": {
        "colab": {
          "base_uri": "https://localhost:8080/"
        },
        "id": "q-DZNipk9ymV",
        "outputId": "4e196795-a491-4737-b115-94b44cd55f0f"
      },
      "execution_count": null,
      "outputs": [
        {
          "output_type": "stream",
          "name": "stdout",
          "text": [
            "                     0                   1   2\n",
            "0  1900-01-01 00:00:00 1900-01-01 00:01:00   4\n",
            "0  1900-01-01 00:01:00 1900-01-01 00:02:00  35\n",
            "0  1900-01-01 00:02:00 1900-01-01 00:03:00  17\n",
            "0  1900-01-01 00:03:00 1900-01-01 00:04:00  11\n",
            "0  1900-01-01 00:04:00 1900-01-01 00:05:00   8\n",
            "..                 ...                 ...  ..\n",
            "0  1900-01-01 23:55:00 1900-01-01 23:56:00  10\n",
            "0  1900-01-01 23:56:00 1900-01-01 23:57:00   7\n",
            "0  1900-01-01 23:57:00 1900-01-01 23:58:00   5\n",
            "0  1900-01-01 23:58:00 1900-01-01 23:59:00   8\n",
            "0  1900-01-01 23:59:00 1900-01-02 00:00:00  34\n",
            "\n",
            "[1440 rows x 3 columns]\n"
          ]
        }
      ]
    },
    {
      "cell_type": "code",
      "source": [
        "onemins_dataframe.to_csv('/content/drive/My Drive/Results/July20Apt1_onemins.csv')"
      ],
      "metadata": {
        "id": "cVw2tFWI1uZ7"
      },
      "execution_count": null,
      "outputs": []
    },
    {
      "cell_type": "code",
      "source": [
        "import matplotlib.pyplot as plt\n",
        "plt.plot(hour_dataframe[1], hour_dataframe[2])\n",
        "plt.ylabel('some numbers')\n",
        "plt.show()"
      ],
      "metadata": {
        "colab": {
          "base_uri": "https://localhost:8080/",
          "height": 265
        },
        "id": "vNnqa_6yUmAE",
        "outputId": "beacc2de-b172-4fde-a0e3-ec69cc03e3d9"
      },
      "execution_count": null,
      "outputs": [
        {
          "output_type": "display_data",
          "data": {
            "text/plain": [
              "<Figure size 432x288 with 1 Axes>"
            ],
            "image/png": "[encoded data removed]"
          },
          "metadata": {
            "needs_background": "light"
          }
        }
      ]
    },
    {
      "cell_type": "markdown",
      "source": [
        "### DISTRIBUTION STUFF ###"
      ],
      "metadata": {
        "id": "BmrwNMM6qEEr"
      }
    },
    {
      "cell_type": "code",
      "source": [
        "import numpy as np\n",
        "import pandas as pd\n",
        "import seaborn as sns\n",
        "from fitter import Fitter, get_common_distributions, get_distributions"
      ],
      "metadata": {
        "id": "9D2mN_HjWNok",
        "colab": {
          "base_uri": "https://localhost:8080/",
          "height": 338
        },
        "outputId": "e7182661-c1bb-4083-8c9d-999a8b335505"
      },
      "execution_count": null,
      "outputs": [
        {
          "output_type": "error",
          "ename": "ModuleNotFoundError",
          "evalue": "ignored",
          "traceback": [
            "\u001b[0;31m---------------------------------------------------------------------------\u001b[0m",
            "\u001b[0;31mModuleNotFoundError\u001b[0m                       Traceback (most recent call last)",
            "\u001b[0;32m<ipython-input-43-f3ac1ed0ffe0>\u001b[0m in \u001b[0;36m<module>\u001b[0;34m()\u001b[0m\n\u001b[1;32m      2\u001b[0m \u001b[0;32mimport\u001b[0m \u001b[0mpandas\u001b[0m \u001b[0;32mas\u001b[0m \u001b[0mpd\u001b[0m\u001b[0;34m\u001b[0m\u001b[0;34m\u001b[0m\u001b[0m\n\u001b[1;32m      3\u001b[0m \u001b[0;32mimport\u001b[0m \u001b[0mseaborn\u001b[0m \u001b[0;32mas\u001b[0m \u001b[0msns\u001b[0m\u001b[0;34m\u001b[0m\u001b[0;34m\u001b[0m\u001b[0m\n\u001b[0;32m----> 4\u001b[0;31m \u001b[0;32mfrom\u001b[0m \u001b[0mfitter\u001b[0m \u001b[0;32mimport\u001b[0m \u001b[0mFitter\u001b[0m\u001b[0;34m,\u001b[0m \u001b[0mget_common_distributions\u001b[0m\u001b[0;34m,\u001b[0m \u001b[0mget_distributions\u001b[0m\u001b[0;34m\u001b[0m\u001b[0;34m\u001b[0m\u001b[0m\n\u001b[0m",
            "\u001b[0;31mModuleNotFoundError\u001b[0m: No module named 'fitter'",
            "",
            "\u001b[0;31m---------------------------------------------------------------------------\u001b[0;32m\nNOTE: If your import is failing due to a missing package, you can\nmanually install dependencies using either !pip or !apt.\n\nTo view examples of installing some common dependencies, click the\n\"Open Examples\" button below.\n\u001b[0;31m---------------------------------------------------------------------------\u001b[0m\n"
          ],
          "errorDetails": {
            "actions": [
              {
                "action": "open_url",
                "actionText": "Open Examples",
                "url": "/notebooks/snippets/importing_libraries.ipynb"
              }
            ]
          }
        }
      ]
    },
    {
      "cell_type": "code",
      "source": [
        "!pip install fitter"
      ],
      "metadata": {
        "id": "e1XHA8gCWmYI"
      },
      "execution_count": null,
      "outputs": []
    },
    {
      "cell_type": "code",
      "source": [
        "x = hour_dataframe[2].values\n",
        "x"
      ],
      "metadata": {
        "id": "90LhUss7XEg2"
      },
      "execution_count": null,
      "outputs": []
    },
    {
      "cell_type": "code",
      "source": [
        "sns.set_style('white')\n",
        "sns.set_context(\"paper\", font_scale = 2)\n",
        "sns.displot(data=hour_dataframe[2], kind=\"hist\", bins = 100, aspect = 1.5)"
      ],
      "metadata": {
        "id": "FwfPicuiWXBd"
      },
      "execution_count": null,
      "outputs": []
    },
    {
      "cell_type": "code",
      "source": [
        "p = get_distributions()\n",
        "print(p)\n",
        "f = Fitter(x,\n",
        "           distributions=p)\n",
        "f.fit()\n",
        "f.summary()"
      ],
      "metadata": {
        "id": "FJGZk_W4XX1N"
      },
      "execution_count": null,
      "outputs": []
    },
    {
      "cell_type": "code",
      "source": [
        "\n",
        "f = Fitter(x,\n",
        "           distributions=['alpha', 'anglit', 'arcsine', 'argus', 'beta'])\n",
        "f.fit()\n",
        "f.summary()"
      ],
      "metadata": {
        "id": "_sZyG0qGaOkW"
      },
      "execution_count": null,
      "outputs": []
    },
    {
      "cell_type": "code",
      "source": [
        "f.get_best(method = 'sumsquare_error')"
      ],
      "metadata": {
        "id": "HYtxZeFVXqse"
      },
      "execution_count": null,
      "outputs": []
    },
    {
      "cell_type": "markdown",
      "source": [
        "### CODE DUMP ###"
      ],
      "metadata": {
        "id": "K7GPvf8lR73Z"
      }
    },
    {
      "cell_type": "code",
      "source": [
        "'''import datetime\n",
        "from datetime import datetime\n",
        "time = datetime.now()\n",
        "x = 0\n",
        "start='3:00:00'\n",
        "end='4:00:00'\n",
        "start = datetime.strptime(start,'%H:%M:%S')\n",
        "end=  datetime.strptime(end,'%H:%M:%S')\n",
        "\n",
        "\n",
        "for i in range(len(df)):\n",
        "  if df['time'][i] > start and df['time'][i] <= end:\n",
        "    x = x+1\n",
        "print(x)\n",
        "a_dataframe = pd. DataFrame([[start,end,x]])\n",
        "print(a_dataframe)'''"
      ],
      "metadata": {
        "id": "SFwEUBY1nRzB"
      },
      "execution_count": null,
      "outputs": []
    },
    {
      "cell_type": "code",
      "source": [
        "#import datetime\n",
        "#from datetime import datetime\n",
        "#time = datetime.now()\n",
        "#from datetime import datetime, date, time, timedelta\n",
        "#x = 0\n",
        "#start='0:00:00'\n",
        "#end='1:00:00'\n",
        "#stop='1900-01-02 00:00:00'\n",
        "#start = datetime.strptime(start,'%H:%M:%S')\n",
        "#end=  datetime.strptime(end,'%H:%M:%S')\n",
        "#stop=  datetime.strptime(stop,'%Y-%m-%d %H:%M:%S')\n",
        "\n",
        "#start = datetime(1900, 1, 1, 0, 0, 0) \n",
        "#end = datetime(1900, 1, 1, 0, 15, 0) \n",
        "#stop = datetime(1900, 1, 2, 0, 0, 0) \n",
        "\n",
        "#mins = 15\n",
        "#mins_added = timedelta(minutes = mins)\n",
        "#fifteenmins_dataframe = pd.DataFrame()\n",
        "#while start<end and end<=stop:\n",
        "  #for i in range(len(df)):\n",
        "   # if df['time'][i] > start and df['time'][i] <= end:\n",
        "    #  x = x+1\n",
        "  #fifteenmins_dataframe = fifteenmins_dataframe.append([[start,end,x]])\n",
        "  #x=0\n",
        "  #start = start + timedelta(minutes = 15)\n",
        "  #end = end + timedelta(minutes = 15)\n",
        "\n",
        "#print(fifteenmins_dataframe)\n"
      ],
      "metadata": {
        "id": "CafV_TPVKEbn"
      },
      "execution_count": null,
      "outputs": []
    }
  ]
}