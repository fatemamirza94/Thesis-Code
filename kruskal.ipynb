{
  "nbformat": 4,
  "nbformat_minor": 0,
  "metadata": {
    "colab": {
      "name": "kruskal.ipynb",
      "provenance": []
    },
    "kernelspec": {
      "name": "python3",
      "display_name": "Python 3"
    },
    "language_info": {
      "name": "python"
    }
  },
  "cells": [
    {
      "cell_type": "code",
      "execution_count": null,
      "metadata": {
        "id": "Ag4qFcjxZ8lv"
      },
      "outputs": [],
      "source": [
        "import pandas as pd\n",
        "\n",
        "df = pd.read_excel ('Bookx.xlsx')"
      ]
    },
    {
      "cell_type": "code",
      "source": [
        "df1 = df['R']\n",
        "df2 = df['RR']\n",
        "df3 = df['SLR']"
      ],
      "metadata": {
        "id": "EanoJ_zWaRTA"
      },
      "execution_count": null,
      "outputs": []
    },
    {
      "cell_type": "code",
      "source": [
        "from scipy import stats\n",
        "\n",
        "stats.kruskal(df1,df3)"
      ],
      "metadata": {
        "colab": {
          "base_uri": "https://localhost:8080/"
        },
        "id": "m-HpkSnsaiZG",
        "outputId": "e7adde73-829f-46f4-deda-2c612067d6e8"
      },
      "execution_count": null,
      "outputs": [
        {
          "output_type": "execute_result",
          "data": {
            "text/plain": [
              "KruskalResult(statistic=0.007677304722098254, pvalue=0.930178522727042)"
            ]
          },
          "metadata": {},
          "execution_count": 8
        }
      ]
    }
  ]
}