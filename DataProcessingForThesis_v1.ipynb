{
  "nbformat": 4,
  "nbformat_minor": 0,
  "metadata": {
    "colab": {
      "name": "DataProcessingForThesis-v1.ipynb",
      "provenance": []
    },
    "kernelspec": {
      "name": "python3",
      "display_name": "Python 3"
    },
    "language_info": {
      "name": "python"
    }
  },
  "cells": [
    {
      "cell_type": "markdown",
      "source": [
        "### SECTIONING DATA FOR DAILY, HOURLY, HALF HOURLY, FIFTEEN MINUTES AND FIVE MINUTES ###"
      ],
      "metadata": {
        "id": "aQzaTbiaRjcr"
      }
    },
    {
      "cell_type": "code",
      "execution_count": null,
      "metadata": {
        "id": "Gh1qyiVvj1m2",
        "colab": {
          "base_uri": "https://localhost:8080/"
        },
        "outputId": "37053799-58d9-4313-83b8-81196bcdda0e"
      },
      "outputs": [
        {
          "output_type": "stream",
          "name": "stdout",
          "text": [
            "Drive already mounted at /content/drive; to attempt to forcibly remount, call drive.mount(\"/content/drive\", force_remount=True).\n"
          ]
        }
      ],
      "source": [
        "### import all required libraries\n",
        "import pandas as pd\n",
        "import numpy as np\n",
        "\n",
        "from datetime import datetime\n",
        "custom_date_parser = lambda x: datetime.strptime(x, \"%H:%M:%S\")\n",
        "\n",
        "from google.colab import drive\n",
        "drive.mount('/content/drive')\n",
        "\n",
        "import datetime\n",
        "from datetime import datetime\n",
        "time = datetime.now()\n",
        "from datetime import datetime, date, time, timedelta"
      ]
    },
    {
      "cell_type": "code",
      "source": [
        "### Load the files\n",
        "df = pd.read_csv('/content/1 - Copy (12).csv',parse_dates=['time'],date_parser=custom_date_parser)\n",
        "print (df)"
      ],
      "metadata": {
        "id": "YmMxMmrmleT5",
        "colab": {
          "base_uri": "https://localhost:8080/"
        },
        "outputId": "e3d7eb47-ef1c-4faf-dedb-10f82a336fe7"
      },
      "execution_count": null,
      "outputs": [
        {
          "output_type": "stream",
          "name": "stdout",
          "text": [
            "       timeOfData                time\n",
            "0       1/12/2021 1900-01-01 00:00:42\n",
            "1       1/12/2021 1900-01-01 00:05:45\n",
            "2       1/12/2021 1900-01-01 00:05:47\n",
            "3       1/12/2021 1900-01-01 00:22:56\n",
            "4       1/12/2021 1900-01-01 00:39:26\n",
            "...           ...                 ...\n",
            "19375  31/12/2021 1900-01-01 23:29:07\n",
            "19376  31/12/2021 1900-01-01 23:29:38\n",
            "19377  31/12/2021 1900-01-01 23:30:29\n",
            "19378  31/12/2021 1900-01-01 23:50:43\n",
            "19379  31/12/2021 1900-01-01 23:58:17\n",
            "\n",
            "[19380 rows x 2 columns]\n"
          ]
        }
      ]
    },
    {
      "cell_type": "code",
      "source": [
        "### Load the files\n",
        "##df = pd.read_csv('/content/combined-csv-files.csv',parse_dates=['time'],date_parser=custom_date_parser)\n",
        "##print (df)"
      ],
      "metadata": {
        "id": "C5FY87wblOy1"
      },
      "execution_count": null,
      "outputs": []
    },
    {
      "cell_type": "code",
      "source": [
        "### Find daily count\n",
        "daily_count = df.groupby(['timeOfData']).count()"
      ],
      "metadata": {
        "id": "0O5i9i-vmQGs"
      },
      "execution_count": null,
      "outputs": []
    },
    {
      "cell_type": "code",
      "source": [
        "### Find the hourly count\n",
        "x = 0\n",
        "start='0:00:00'\n",
        "end='1:00:00'\n",
        "stop='1900-01-02 00:00:00'\n",
        "start = datetime.strptime(start,'%H:%M:%S')\n",
        "end=  datetime.strptime(end,'%H:%M:%S')\n",
        "stop=  datetime.strptime(stop,'%Y-%m-%d %H:%M:%S')\n",
        "hours = 1\n",
        "hours_added = timedelta(hours = hours)\n",
        "hour_dataframe = pd.DataFrame()\n",
        "while start<end and end<=stop:\n",
        "  for i in range(len(df)):\n",
        "    if df['time'][i] > start and df['time'][i] <= end:\n",
        "      x = x+1\n",
        "  hour_dataframe = hour_dataframe.append([[start,end,x]])\n",
        "  x=0\n",
        "  start = start + hours_added\n",
        "  end = end + hours_added\n",
        "\n",
        "print(hour_dataframe)\n"
      ],
      "metadata": {
        "id": "iAtI3TCZCiyZ",
        "colab": {
          "base_uri": "https://localhost:8080/"
        },
        "outputId": "4c9435d4-bf78-4ea4-e759-86ca271fa7d9"
      },
      "execution_count": null,
      "outputs": [
        {
          "output_type": "stream",
          "name": "stdout",
          "text": [
            "                    0                   1     2\n",
            "0 1900-01-01 00:00:00 1900-01-01 01:00:00   508\n",
            "0 1900-01-01 01:00:00 1900-01-01 02:00:00   442\n",
            "0 1900-01-01 02:00:00 1900-01-01 03:00:00   351\n",
            "0 1900-01-01 03:00:00 1900-01-01 04:00:00   400\n",
            "0 1900-01-01 04:00:00 1900-01-01 05:00:00   456\n",
            "0 1900-01-01 05:00:00 1900-01-01 06:00:00   466\n",
            "0 1900-01-01 06:00:00 1900-01-01 07:00:00   734\n",
            "0 1900-01-01 07:00:00 1900-01-01 08:00:00  1248\n",
            "0 1900-01-01 08:00:00 1900-01-01 09:00:00  1571\n",
            "0 1900-01-01 09:00:00 1900-01-01 10:00:00  1477\n",
            "0 1900-01-01 10:00:00 1900-01-01 11:00:00   929\n",
            "0 1900-01-01 11:00:00 1900-01-01 12:00:00  1051\n",
            "0 1900-01-01 12:00:00 1900-01-01 13:00:00  1020\n",
            "0 1900-01-01 13:00:00 1900-01-01 14:00:00   868\n",
            "0 1900-01-01 14:00:00 1900-01-01 15:00:00   880\n",
            "0 1900-01-01 15:00:00 1900-01-01 16:00:00  1019\n",
            "0 1900-01-01 16:00:00 1900-01-01 17:00:00   813\n",
            "0 1900-01-01 17:00:00 1900-01-01 18:00:00   915\n",
            "0 1900-01-01 18:00:00 1900-01-01 19:00:00   731\n",
            "0 1900-01-01 19:00:00 1900-01-01 20:00:00   845\n",
            "0 1900-01-01 20:00:00 1900-01-01 21:00:00   565\n",
            "0 1900-01-01 21:00:00 1900-01-01 22:00:00   799\n",
            "0 1900-01-01 22:00:00 1900-01-01 23:00:00   741\n",
            "0 1900-01-01 23:00:00 1900-01-02 00:00:00   551\n"
          ]
        }
      ]
    },
    {
      "cell_type": "code",
      "source": [
        "### Find the halfhourly count\n",
        "x = 0\n",
        "start='0:00:00'\n",
        "end='0:30:00'\n",
        "stop='1900-01-02 00:00:00'\n",
        "start = datetime.strptime(start,'%H:%M:%S')\n",
        "end=  datetime.strptime(end,'%H:%M:%S')\n",
        "stop=  datetime.strptime(stop,'%Y-%m-%d %H:%M:%S')\n",
        "mins = 30\n",
        "mins_added = timedelta(minutes = mins)\n",
        "halfhour_dataframe = pd.DataFrame()\n",
        "while start<end and end<=stop:\n",
        "  for i in range(len(df)):\n",
        "    if df['time'][i] > start and df['time'][i] <= end:\n",
        "      x = x+1\n",
        "  halfhour_dataframe = halfhour_dataframe.append([[start,end,x]])\n",
        "  x=0\n",
        "  start = start + mins_added\n",
        "  end = end + mins_added\n",
        "\n",
        "print(halfhour_dataframe)\n"
      ],
      "metadata": {
        "id": "RZU_CXLNI_WT",
        "colab": {
          "base_uri": "https://localhost:8080/"
        },
        "outputId": "549ef1e2-1211-4d00-8b42-5f5cd55fdd3b"
      },
      "execution_count": null,
      "outputs": [
        {
          "output_type": "stream",
          "name": "stdout",
          "text": [
            "                    0                   1    2\n",
            "0 1900-01-01 00:00:00 1900-01-01 00:30:00  301\n",
            "0 1900-01-01 00:30:00 1900-01-01 01:00:00  207\n",
            "0 1900-01-01 01:00:00 1900-01-01 01:30:00  255\n",
            "0 1900-01-01 01:30:00 1900-01-01 02:00:00  187\n",
            "0 1900-01-01 02:00:00 1900-01-01 02:30:00  201\n",
            "0 1900-01-01 02:30:00 1900-01-01 03:00:00  150\n",
            "0 1900-01-01 03:00:00 1900-01-01 03:30:00  224\n",
            "0 1900-01-01 03:30:00 1900-01-01 04:00:00  176\n",
            "0 1900-01-01 04:00:00 1900-01-01 04:30:00  233\n",
            "0 1900-01-01 04:30:00 1900-01-01 05:00:00  223\n",
            "0 1900-01-01 05:00:00 1900-01-01 05:30:00  243\n",
            "0 1900-01-01 05:30:00 1900-01-01 06:00:00  223\n",
            "0 1900-01-01 06:00:00 1900-01-01 06:30:00  331\n",
            "0 1900-01-01 06:30:00 1900-01-01 07:00:00  403\n",
            "0 1900-01-01 07:00:00 1900-01-01 07:30:00  552\n",
            "0 1900-01-01 07:30:00 1900-01-01 08:00:00  696\n",
            "0 1900-01-01 08:00:00 1900-01-01 08:30:00  811\n",
            "0 1900-01-01 08:30:00 1900-01-01 09:00:00  760\n",
            "0 1900-01-01 09:00:00 1900-01-01 09:30:00  804\n",
            "0 1900-01-01 09:30:00 1900-01-01 10:00:00  673\n",
            "0 1900-01-01 10:00:00 1900-01-01 10:30:00  491\n",
            "0 1900-01-01 10:30:00 1900-01-01 11:00:00  438\n",
            "0 1900-01-01 11:00:00 1900-01-01 11:30:00  508\n",
            "0 1900-01-01 11:30:00 1900-01-01 12:00:00  543\n",
            "0 1900-01-01 12:00:00 1900-01-01 12:30:00  553\n",
            "0 1900-01-01 12:30:00 1900-01-01 13:00:00  467\n",
            "0 1900-01-01 13:00:00 1900-01-01 13:30:00  449\n",
            "0 1900-01-01 13:30:00 1900-01-01 14:00:00  419\n",
            "0 1900-01-01 14:00:00 1900-01-01 14:30:00  432\n",
            "0 1900-01-01 14:30:00 1900-01-01 15:00:00  448\n",
            "0 1900-01-01 15:00:00 1900-01-01 15:30:00  596\n",
            "0 1900-01-01 15:30:00 1900-01-01 16:00:00  423\n",
            "0 1900-01-01 16:00:00 1900-01-01 16:30:00  419\n",
            "0 1900-01-01 16:30:00 1900-01-01 17:00:00  394\n",
            "0 1900-01-01 17:00:00 1900-01-01 17:30:00  426\n",
            "0 1900-01-01 17:30:00 1900-01-01 18:00:00  489\n",
            "0 1900-01-01 18:00:00 1900-01-01 18:30:00  412\n",
            "0 1900-01-01 18:30:00 1900-01-01 19:00:00  319\n",
            "0 1900-01-01 19:00:00 1900-01-01 19:30:00  485\n",
            "0 1900-01-01 19:30:00 1900-01-01 20:00:00  360\n",
            "0 1900-01-01 20:00:00 1900-01-01 20:30:00  261\n",
            "0 1900-01-01 20:30:00 1900-01-01 21:00:00  304\n",
            "0 1900-01-01 21:00:00 1900-01-01 21:30:00  380\n",
            "0 1900-01-01 21:30:00 1900-01-01 22:00:00  419\n",
            "0 1900-01-01 22:00:00 1900-01-01 22:30:00  447\n",
            "0 1900-01-01 22:30:00 1900-01-01 23:00:00  294\n",
            "0 1900-01-01 23:00:00 1900-01-01 23:30:00  342\n",
            "0 1900-01-01 23:30:00 1900-01-02 00:00:00  209\n"
          ]
        }
      ]
    },
    {
      "cell_type": "code",
      "source": [
        "### Find the fifteen minutes count\n",
        "x = 0\n",
        "start='0:00:00'\n",
        "end='0:15:00'\n",
        "stop='1900-01-02 00:00:00'\n",
        "start = datetime.strptime(start,'%H:%M:%S')\n",
        "end=  datetime.strptime(end,'%H:%M:%S')\n",
        "stop=  datetime.strptime(stop,'%Y-%m-%d %H:%M:%S')\n",
        "mins = 15\n",
        "mins_added = timedelta(minutes = mins)\n",
        "fifteenmins_dataframe = pd.DataFrame()\n",
        "while start<end and end<=stop:\n",
        "  for i in range(len(df)):\n",
        "    if df['time'][i] > start and df['time'][i] <= end:\n",
        "      x = x+1\n",
        "  fifteenmins_dataframe = fifteenmins_dataframe.append([[start,end,x]])\n",
        "  x=0\n",
        "  start = start + mins_added\n",
        "  end = end + mins_added\n",
        "\n",
        "print(fifteenmins_dataframe)\n"
      ],
      "metadata": {
        "id": "vQbex_d_OZlX",
        "colab": {
          "base_uri": "https://localhost:8080/"
        },
        "outputId": "e4d6a016-1b87-48f8-921b-b298f2643ffb"
      },
      "execution_count": null,
      "outputs": [
        {
          "output_type": "stream",
          "name": "stdout",
          "text": [
            "                     0                   1    2\n",
            "0  1900-01-01 00:00:00 1900-01-01 00:15:00  180\n",
            "0  1900-01-01 00:15:00 1900-01-01 00:30:00  121\n",
            "0  1900-01-01 00:30:00 1900-01-01 00:45:00  110\n",
            "0  1900-01-01 00:45:00 1900-01-01 01:00:00   97\n",
            "0  1900-01-01 01:00:00 1900-01-01 01:15:00  168\n",
            "..                 ...                 ...  ...\n",
            "0  1900-01-01 22:45:00 1900-01-01 23:00:00  154\n",
            "0  1900-01-01 23:00:00 1900-01-01 23:15:00  220\n",
            "0  1900-01-01 23:15:00 1900-01-01 23:30:00  122\n",
            "0  1900-01-01 23:30:00 1900-01-01 23:45:00  111\n",
            "0  1900-01-01 23:45:00 1900-01-02 00:00:00   98\n",
            "\n",
            "[96 rows x 3 columns]\n"
          ]
        }
      ]
    },
    {
      "cell_type": "code",
      "source": [
        "### Find the five minutes count\n",
        "x = 0\n",
        "start='0:00:00'\n",
        "end='0:05:00'\n",
        "stop='1900-01-02 00:00:00'\n",
        "start = datetime.strptime(start,'%H:%M:%S')\n",
        "end=  datetime.strptime(end,'%H:%M:%S')\n",
        "stop=  datetime.strptime(stop,'%Y-%m-%d %H:%M:%S')\n",
        "mins = 5\n",
        "mins_added = timedelta(minutes = mins)\n",
        "fivemins_dataframe = pd.DataFrame()\n",
        "while start<end and end<=stop:\n",
        "  for i in range(len(df)):\n",
        "    if df['time'][i] > start and df['time'][i] <= end:\n",
        "      x = x+1\n",
        "  fivemins_dataframe = fivemins_dataframe.append([[start,end,x]])\n",
        "  x=0\n",
        "  start = start + mins_added\n",
        "  end = end + mins_added\n",
        "\n",
        "print(fivemins_dataframe)\n"
      ],
      "metadata": {
        "colab": {
          "base_uri": "https://localhost:8080/"
        },
        "id": "7YXJ6DIiPoJs",
        "outputId": "75997627-8228-41b5-cafe-6647bece5c3f"
      },
      "execution_count": null,
      "outputs": [
        {
          "output_type": "stream",
          "name": "stdout",
          "text": [
            "                     0                   1    2\n",
            "0  1900-01-01 00:00:00 1900-01-01 00:05:00   29\n",
            "0  1900-01-01 00:05:00 1900-01-01 00:10:00  114\n",
            "0  1900-01-01 00:10:00 1900-01-01 00:15:00   37\n",
            "0  1900-01-01 00:15:00 1900-01-01 00:20:00   67\n",
            "0  1900-01-01 00:20:00 1900-01-01 00:25:00   30\n",
            "..                 ...                 ...  ...\n",
            "0  1900-01-01 23:35:00 1900-01-01 23:40:00   40\n",
            "0  1900-01-01 23:40:00 1900-01-01 23:45:00   39\n",
            "0  1900-01-01 23:45:00 1900-01-01 23:50:00   36\n",
            "0  1900-01-01 23:50:00 1900-01-01 23:55:00   34\n",
            "0  1900-01-01 23:55:00 1900-01-02 00:00:00   28\n",
            "\n",
            "[288 rows x 3 columns]\n"
          ]
        }
      ]
    },
    {
      "cell_type": "code",
      "source": [
        "###save the results of the count to drive\n",
        "hour_dataframe.to_csv('/content/drive/My Drive/Results/Dec21Apt1_hour.csv')\n",
        "halfhour_dataframe.to_csv('/content/drive/My Drive/Results/Dec21Apt1_halfhour.csv')\n",
        "fifteenmins_dataframe.to_csv('/content/drive/My Drive/Results/Dec21Apt1_fifteenmins.csv')\n",
        "fivemins_dataframe.to_csv('/content/drive/My Drive/Results/Dec21Apt1_fivemins.csv')\n",
        "daily_count.to_csv('/content/drive/My Drive/Results/Dec21Apt1_daily.csv')"
      ],
      "metadata": {
        "id": "lQpThCytgPnM"
      },
      "execution_count": null,
      "outputs": []
    },
    {
      "cell_type": "code",
      "source": [
        "### Find the one minutes count\n",
        "x = 0\n",
        "start='0:00:00'\n",
        "end='0:01:00'\n",
        "stop='1900-01-02 00:00:00'\n",
        "start = datetime.strptime(start,'%H:%M:%S')\n",
        "end=  datetime.strptime(end,'%H:%M:%S')\n",
        "stop=  datetime.strptime(stop,'%Y-%m-%d %H:%M:%S')\n",
        "mins = 1\n",
        "mins_added = timedelta(minutes = mins)\n",
        "onemins_dataframe = pd.DataFrame()\n",
        "while start<end and end<=stop:\n",
        "  for i in range(len(df)):\n",
        "    if df['time'][i] > start and df['time'][i] <= end:\n",
        "      x = x+1\n",
        "  onemins_dataframe = onemins_dataframe.append([[start,end,x]])\n",
        "  x=0\n",
        "  start = start + mins_added\n",
        "  end = end + mins_added\n",
        "\n",
        "print(onemins_dataframe)\n"
      ],
      "metadata": {
        "colab": {
          "base_uri": "https://localhost:8080/"
        },
        "id": "q-DZNipk9ymV",
        "outputId": "243945e1-92d1-4828-fda8-8cb204df5a2b"
      },
      "execution_count": null,
      "outputs": [
        {
          "output_type": "stream",
          "name": "stdout",
          "text": [
            "                     0                   1  2\n",
            "0  1900-01-01 00:00:00 1900-01-01 00:01:00  4\n",
            "0  1900-01-01 00:01:00 1900-01-01 00:02:00  4\n",
            "0  1900-01-01 00:02:00 1900-01-01 00:03:00  6\n",
            "0  1900-01-01 00:03:00 1900-01-01 00:04:00  8\n",
            "0  1900-01-01 00:04:00 1900-01-01 00:05:00  7\n",
            "..                 ...                 ... ..\n",
            "0  1900-01-01 23:55:00 1900-01-01 23:56:00  8\n",
            "0  1900-01-01 23:56:00 1900-01-01 23:57:00  7\n",
            "0  1900-01-01 23:57:00 1900-01-01 23:58:00  6\n",
            "0  1900-01-01 23:58:00 1900-01-01 23:59:00  5\n",
            "0  1900-01-01 23:59:00 1900-01-02 00:00:00  2\n",
            "\n",
            "[1440 rows x 3 columns]\n"
          ]
        }
      ]
    },
    {
      "cell_type": "code",
      "source": [
        "onemins_dataframe.to_csv('/content/drive/My Drive/Results/Dec21Apt1_onemins.csv')"
      ],
      "metadata": {
        "id": "mF30iXAE2MXq"
      },
      "execution_count": null,
      "outputs": []
    },
    {
      "cell_type": "code",
      "source": [
        "import matplotlib.pyplot as plt\n",
        "plt.plot(hour_dataframe[1], hour_dataframe[2])\n",
        "plt.ylabel('some numbers')\n",
        "plt.show()"
      ],
      "metadata": {
        "colab": {
          "base_uri": "https://localhost:8080/"
        },
        "id": "vNnqa_6yUmAE",
        "outputId": "f224653c-2267-46d4-9c47-91a823efa7a0"
      },
      "execution_count": null,
      "outputs": [
        {
          "output_type": "display_data",
          "data": {
            "text/plain": [
              "<Figure size 432x288 with 1 Axes>"
            ],
            "image/png": "[encoded data removed]"
          },
          "metadata": {
            "needs_background": "light"
          }
        }
      ]
    },
    {
      "cell_type": "markdown",
      "source": [
        "### DISTRIBUTION STUFF ###"
      ],
      "metadata": {
        "id": "BmrwNMM6qEEr"
      }
    },
    {
      "cell_type": "code",
      "source": [
        "import numpy as np\n",
        "import pandas as pd\n",
        "import seaborn as sns\n",
        "from fitter import Fitter, get_common_distributions, get_distributions"
      ],
      "metadata": {
        "id": "9D2mN_HjWNok",
        "colab": {
          "base_uri": "https://localhost:8080/",
          "height": 338
        },
        "outputId": "91e2ec09-1ef6-426b-b9b5-62aa634a33d4"
      },
      "execution_count": null,
      "outputs": [
        {
          "output_type": "error",
          "ename": "ModuleNotFoundError",
          "evalue": "ignored",
          "traceback": [
            "\u001b[0;31m---------------------------------------------------------------------------\u001b[0m",
            "\u001b[0;31mModuleNotFoundError\u001b[0m                       Traceback (most recent call last)",
            "\u001b[0;32m<ipython-input-109-f3ac1ed0ffe0>\u001b[0m in \u001b[0;36m<module>\u001b[0;34m()\u001b[0m\n\u001b[1;32m      2\u001b[0m \u001b[0;32mimport\u001b[0m \u001b[0mpandas\u001b[0m \u001b[0;32mas\u001b[0m \u001b[0mpd\u001b[0m\u001b[0;34m\u001b[0m\u001b[0;34m\u001b[0m\u001b[0m\n\u001b[1;32m      3\u001b[0m \u001b[0;32mimport\u001b[0m \u001b[0mseaborn\u001b[0m \u001b[0;32mas\u001b[0m \u001b[0msns\u001b[0m\u001b[0;34m\u001b[0m\u001b[0;34m\u001b[0m\u001b[0m\n\u001b[0;32m----> 4\u001b[0;31m \u001b[0;32mfrom\u001b[0m \u001b[0mfitter\u001b[0m \u001b[0;32mimport\u001b[0m \u001b[0mFitter\u001b[0m\u001b[0;34m,\u001b[0m \u001b[0mget_common_distributions\u001b[0m\u001b[0;34m,\u001b[0m \u001b[0mget_distributions\u001b[0m\u001b[0;34m\u001b[0m\u001b[0;34m\u001b[0m\u001b[0m\n\u001b[0m",
            "\u001b[0;31mModuleNotFoundError\u001b[0m: No module named 'fitter'",
            "",
            "\u001b[0;31m---------------------------------------------------------------------------\u001b[0;32m\nNOTE: If your import is failing due to a missing package, you can\nmanually install dependencies using either !pip or !apt.\n\nTo view examples of installing some common dependencies, click the\n\"Open Examples\" button below.\n\u001b[0;31m---------------------------------------------------------------------------\u001b[0m\n"
          ],
          "errorDetails": {
            "actions": [
              {
                "action": "open_url",
                "actionText": "Open Examples",
                "url": "/notebooks/snippets/importing_libraries.ipynb"
              }
            ]
          }
        }
      ]
    },
    {
      "cell_type": "code",
      "source": [
        "!pip install fitter"
      ],
      "metadata": {
        "id": "e1XHA8gCWmYI"
      },
      "execution_count": null,
      "outputs": []
    },
    {
      "cell_type": "code",
      "source": [
        "x = hour_dataframe[2].values\n",
        "x"
      ],
      "metadata": {
        "id": "90LhUss7XEg2"
      },
      "execution_count": null,
      "outputs": []
    },
    {
      "cell_type": "code",
      "source": [
        "sns.set_style('white')\n",
        "sns.set_context(\"paper\", font_scale = 2)\n",
        "sns.displot(data=hour_dataframe[2], kind=\"hist\", bins = 100, aspect = 1.5)"
      ],
      "metadata": {
        "id": "FwfPicuiWXBd"
      },
      "execution_count": null,
      "outputs": []
    },
    {
      "cell_type": "code",
      "source": [
        "p = get_distributions()\n",
        "print(p)\n",
        "f = Fitter(x,\n",
        "           distributions=p)\n",
        "f.fit()\n",
        "f.summary()"
      ],
      "metadata": {
        "id": "FJGZk_W4XX1N"
      },
      "execution_count": null,
      "outputs": []
    },
    {
      "cell_type": "code",
      "source": [
        "\n",
        "f = Fitter(x,\n",
        "           distributions=['alpha', 'anglit', 'arcsine', 'argus', 'beta'])\n",
        "f.fit()\n",
        "f.summary()"
      ],
      "metadata": {
        "id": "_sZyG0qGaOkW"
      },
      "execution_count": null,
      "outputs": []
    },
    {
      "cell_type": "code",
      "source": [
        "f.get_best(method = 'sumsquare_error')"
      ],
      "metadata": {
        "id": "HYtxZeFVXqse"
      },
      "execution_count": null,
      "outputs": []
    },
    {
      "cell_type": "markdown",
      "source": [
        "### CODE DUMP ###"
      ],
      "metadata": {
        "id": "K7GPvf8lR73Z"
      }
    },
    {
      "cell_type": "code",
      "source": [
        "'''import datetime\n",
        "from datetime import datetime\n",
        "time = datetime.now()\n",
        "x = 0\n",
        "start='3:00:00'\n",
        "end='4:00:00'\n",
        "start = datetime.strptime(start,'%H:%M:%S')\n",
        "end=  datetime.strptime(end,'%H:%M:%S')\n",
        "\n",
        "\n",
        "for i in range(len(df)):\n",
        "  if df['time'][i] > start and df['time'][i] <= end:\n",
        "    x = x+1\n",
        "print(x)\n",
        "a_dataframe = pd. DataFrame([[start,end,x]])\n",
        "print(a_dataframe)'''"
      ],
      "metadata": {
        "id": "SFwEUBY1nRzB"
      },
      "execution_count": null,
      "outputs": []
    },
    {
      "cell_type": "code",
      "source": [
        "#import datetime\n",
        "#from datetime import datetime\n",
        "#time = datetime.now()\n",
        "#from datetime import datetime, date, time, timedelta\n",
        "#x = 0\n",
        "#start='0:00:00'\n",
        "#end='1:00:00'\n",
        "#stop='1900-01-02 00:00:00'\n",
        "#start = datetime.strptime(start,'%H:%M:%S')\n",
        "#end=  datetime.strptime(end,'%H:%M:%S')\n",
        "#stop=  datetime.strptime(stop,'%Y-%m-%d %H:%M:%S')\n",
        "\n",
        "#start = datetime(1900, 1, 1, 0, 0, 0) \n",
        "#end = datetime(1900, 1, 1, 0, 15, 0) \n",
        "#stop = datetime(1900, 1, 2, 0, 0, 0) \n",
        "\n",
        "#mins = 15\n",
        "#mins_added = timedelta(minutes = mins)\n",
        "#fifteenmins_dataframe = pd.DataFrame()\n",
        "#while start<end and end<=stop:\n",
        "  #for i in range(len(df)):\n",
        "   # if df['time'][i] > start and df['time'][i] <= end:\n",
        "    #  x = x+1\n",
        "  #fifteenmins_dataframe = fifteenmins_dataframe.append([[start,end,x]])\n",
        "  #x=0\n",
        "  #start = start + timedelta(minutes = 15)\n",
        "  #end = end + timedelta(minutes = 15)\n",
        "\n",
        "#print(fifteenmins_dataframe)\n"
      ],
      "metadata": {
        "id": "CafV_TPVKEbn"
      },
      "execution_count": null,
      "outputs": []
    }
  ]
}