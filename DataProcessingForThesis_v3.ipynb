{
  "nbformat": 4,
  "nbformat_minor": 0,
  "metadata": {
    "colab": {
      "name": "DataProcessingForThesis-v3.ipynb",
      "provenance": []
    },
    "kernelspec": {
      "name": "python3",
      "display_name": "Python 3"
    },
    "language_info": {
      "name": "python"
    }
  },
  "cells": [
    {
      "cell_type": "markdown",
      "source": [
        "### SECTIONING DATA FOR DAILY, HOURLY, HALF HOURLY, FIFTEEN MINUTES AND FIVE MINUTES ###"
      ],
      "metadata": {
        "id": "aQzaTbiaRjcr"
      }
    },
    {
      "cell_type": "code",
      "execution_count": null,
      "metadata": {
        "id": "Gh1qyiVvj1m2",
        "colab": {
          "base_uri": "https://localhost:8080/"
        },
        "outputId": "331c334f-75b4-4362-9379-67491cbad1df"
      },
      "outputs": [
        {
          "output_type": "stream",
          "name": "stdout",
          "text": [
            "Drive already mounted at /content/drive; to attempt to forcibly remount, call drive.mount(\"/content/drive\", force_remount=True).\n"
          ]
        }
      ],
      "source": [
        "### import all required libraries\n",
        "import pandas as pd\n",
        "import numpy as np\n",
        "\n",
        "from datetime import datetime\n",
        "custom_date_parser = lambda x: datetime.strptime(x, \"%H:%M:%S\")\n",
        "\n",
        "from google.colab import drive\n",
        "drive.mount('/content/drive')\n",
        "\n",
        "import datetime\n",
        "from datetime import datetime\n",
        "time = datetime.now()\n",
        "from datetime import datetime, date, time, timedelta"
      ]
    },
    {
      "cell_type": "code",
      "source": [
        "### Load the files\n",
        "df = pd.read_csv('/content/6_june.csv',parse_dates=['time'],date_parser=custom_date_parser)\n",
        "print (df)"
      ],
      "metadata": {
        "id": "YmMxMmrmleT5",
        "colab": {
          "base_uri": "https://localhost:8080/"
        },
        "outputId": "d444cecf-9d82-4183-e7f0-b23afa80ff03"
      },
      "execution_count": null,
      "outputs": [
        {
          "output_type": "stream",
          "name": "stdout",
          "text": [
            "      timeOfData                time\n",
            "0      11/6/2020 1900-01-01 08:46:38\n",
            "1      11/6/2020 1900-01-01 08:42:34\n",
            "2      11/6/2020 1900-01-01 09:00:46\n",
            "3      11/6/2020 1900-01-01 08:59:17\n",
            "4      11/6/2020 1900-01-01 09:08:49\n",
            "...          ...                 ...\n",
            "10212  30/6/2020 1900-01-01 23:48:56\n",
            "10213  30/6/2020 1900-01-01 23:50:32\n",
            "10214  30/6/2020 1900-01-01 23:55:29\n",
            "10215  30/6/2020 1900-01-01 23:58:05\n",
            "10216  30/6/2020 1900-01-01 23:58:53\n",
            "\n",
            "[10217 rows x 2 columns]\n"
          ]
        }
      ]
    },
    {
      "cell_type": "code",
      "source": [
        "### Load the files\n",
        "#df = pd.read_csv('/content/combined-csv-files.csv',parse_dates=['time'],date_parser=custom_date_parser)\n",
        "#print (df)"
      ],
      "metadata": {
        "id": "C5FY87wblOy1"
      },
      "execution_count": null,
      "outputs": []
    },
    {
      "cell_type": "code",
      "source": [
        "### Find the fifteen minutes count\n",
        "x = 0\n",
        "start='0:00:00'\n",
        "end='0:15:00'\n",
        "stop='1900-01-02 00:00:00'\n",
        "start = datetime.strptime(start,'%H:%M:%S')\n",
        "end=  datetime.strptime(end,'%H:%M:%S')\n",
        "stop=  datetime.strptime(stop,'%Y-%m-%d %H:%M:%S')\n",
        "mins = 15\n",
        "mins_added = timedelta(minutes = mins)\n",
        "fifteenmins_dataframe = pd.DataFrame()\n",
        "while start<end and end<=stop:\n",
        "  for i in range(len(df)):\n",
        "    if df['time'][i] > start and df['time'][i] <= end:\n",
        "      x = x+1\n",
        "  fifteenmins_dataframe = fifteenmins_dataframe.append([[start,end,x]])\n",
        "  x=0\n",
        "  start = start + mins_added\n",
        "  end = end + mins_added\n",
        "\n",
        "print(fifteenmins_dataframe)\n"
      ],
      "metadata": {
        "id": "vQbex_d_OZlX",
        "colab": {
          "base_uri": "https://localhost:8080/"
        },
        "outputId": "1171175e-10a0-4ec6-d4bc-293c39a53524"
      },
      "execution_count": null,
      "outputs": [
        {
          "output_type": "stream",
          "name": "stdout",
          "text": [
            "                     0                   1   2\n",
            "0  1900-01-01 00:00:00 1900-01-01 00:15:00  48\n",
            "0  1900-01-01 00:15:00 1900-01-01 00:30:00  62\n",
            "0  1900-01-01 00:30:00 1900-01-01 00:45:00  43\n",
            "0  1900-01-01 00:45:00 1900-01-01 01:00:00  61\n",
            "0  1900-01-01 01:00:00 1900-01-01 01:15:00  59\n",
            "..                 ...                 ...  ..\n",
            "0  1900-01-01 22:45:00 1900-01-01 23:00:00  37\n",
            "0  1900-01-01 23:00:00 1900-01-01 23:15:00  32\n",
            "0  1900-01-01 23:15:00 1900-01-01 23:30:00  23\n",
            "0  1900-01-01 23:30:00 1900-01-01 23:45:00  18\n",
            "0  1900-01-01 23:45:00 1900-01-02 00:00:00  50\n",
            "\n",
            "[96 rows x 3 columns]\n"
          ]
        }
      ]
    },
    {
      "cell_type": "code",
      "source": [
        "###save the results of the count to drive\n",
        "\n",
        "fifteenmins_dataframe.to_csv('/content/drive/My Drive/Results/allapt_6_june_fifteenmins.csv')\n"
      ],
      "metadata": {
        "id": "lQpThCytgPnM"
      },
      "execution_count": null,
      "outputs": []
    },
    {
      "cell_type": "code",
      "source": [
        "import matplotlib.pyplot as plt\n",
        "plt.plot(hour_dataframe[1], hour_dataframe[2])\n",
        "plt.ylabel('some numbers')\n",
        "plt.show()"
      ],
      "metadata": {
        "colab": {
          "base_uri": "https://localhost:8080/",
          "height": 217
        },
        "id": "vNnqa_6yUmAE",
        "outputId": "6f60408c-f3ef-44b4-b49b-de92ee5d501c"
      },
      "execution_count": null,
      "outputs": [
        {
          "output_type": "error",
          "ename": "NameError",
          "evalue": "ignored",
          "traceback": [
            "\u001b[0;31m---------------------------------------------------------------------------\u001b[0m",
            "\u001b[0;31mNameError\u001b[0m                                 Traceback (most recent call last)",
            "\u001b[0;32m<ipython-input-66-4f19606078fe>\u001b[0m in \u001b[0;36m<module>\u001b[0;34m()\u001b[0m\n\u001b[1;32m      1\u001b[0m \u001b[0;32mimport\u001b[0m \u001b[0mmatplotlib\u001b[0m\u001b[0;34m.\u001b[0m\u001b[0mpyplot\u001b[0m \u001b[0;32mas\u001b[0m \u001b[0mplt\u001b[0m\u001b[0;34m\u001b[0m\u001b[0;34m\u001b[0m\u001b[0m\n\u001b[0;32m----> 2\u001b[0;31m \u001b[0mplt\u001b[0m\u001b[0;34m.\u001b[0m\u001b[0mplot\u001b[0m\u001b[0;34m(\u001b[0m\u001b[0mhour_dataframe\u001b[0m\u001b[0;34m[\u001b[0m\u001b[0;36m1\u001b[0m\u001b[0;34m]\u001b[0m\u001b[0;34m,\u001b[0m \u001b[0mhour_dataframe\u001b[0m\u001b[0;34m[\u001b[0m\u001b[0;36m2\u001b[0m\u001b[0;34m]\u001b[0m\u001b[0;34m)\u001b[0m\u001b[0;34m\u001b[0m\u001b[0;34m\u001b[0m\u001b[0m\n\u001b[0m\u001b[1;32m      3\u001b[0m \u001b[0mplt\u001b[0m\u001b[0;34m.\u001b[0m\u001b[0mylabel\u001b[0m\u001b[0;34m(\u001b[0m\u001b[0;34m'some numbers'\u001b[0m\u001b[0;34m)\u001b[0m\u001b[0;34m\u001b[0m\u001b[0;34m\u001b[0m\u001b[0m\n\u001b[1;32m      4\u001b[0m \u001b[0mplt\u001b[0m\u001b[0;34m.\u001b[0m\u001b[0mshow\u001b[0m\u001b[0;34m(\u001b[0m\u001b[0;34m)\u001b[0m\u001b[0;34m\u001b[0m\u001b[0;34m\u001b[0m\u001b[0m\n",
            "\u001b[0;31mNameError\u001b[0m: name 'hour_dataframe' is not defined"
          ]
        }
      ]
    },
    {
      "cell_type": "markdown",
      "source": [
        "### DISTRIBUTION STUFF ###"
      ],
      "metadata": {
        "id": "BmrwNMM6qEEr"
      }
    },
    {
      "cell_type": "code",
      "source": [
        "import numpy as np\n",
        "import pandas as pd\n",
        "import seaborn as sns\n",
        "from fitter import Fitter, get_common_distributions, get_distributions"
      ],
      "metadata": {
        "id": "9D2mN_HjWNok"
      },
      "execution_count": null,
      "outputs": []
    },
    {
      "cell_type": "code",
      "source": [
        "!pip install fitter"
      ],
      "metadata": {
        "id": "e1XHA8gCWmYI"
      },
      "execution_count": null,
      "outputs": []
    },
    {
      "cell_type": "code",
      "source": [
        "x = hour_dataframe[2].values\n",
        "x"
      ],
      "metadata": {
        "id": "90LhUss7XEg2"
      },
      "execution_count": null,
      "outputs": []
    },
    {
      "cell_type": "code",
      "source": [
        "sns.set_style('white')\n",
        "sns.set_context(\"paper\", font_scale = 2)\n",
        "sns.displot(data=hour_dataframe[2], kind=\"hist\", bins = 100, aspect = 1.5)"
      ],
      "metadata": {
        "id": "FwfPicuiWXBd"
      },
      "execution_count": null,
      "outputs": []
    },
    {
      "cell_type": "code",
      "source": [
        "p = get_distributions()\n",
        "print(p)\n",
        "f = Fitter(x,\n",
        "           distributions=p)\n",
        "f.fit()\n",
        "f.summary()"
      ],
      "metadata": {
        "id": "FJGZk_W4XX1N"
      },
      "execution_count": null,
      "outputs": []
    },
    {
      "cell_type": "code",
      "source": [
        "\n",
        "f = Fitter(x,\n",
        "           distributions=['alpha', 'anglit', 'arcsine', 'argus', 'beta'])\n",
        "f.fit()\n",
        "f.summary()"
      ],
      "metadata": {
        "id": "_sZyG0qGaOkW"
      },
      "execution_count": null,
      "outputs": []
    },
    {
      "cell_type": "code",
      "source": [
        "f.get_best(method = 'sumsquare_error')"
      ],
      "metadata": {
        "id": "HYtxZeFVXqse"
      },
      "execution_count": null,
      "outputs": []
    },
    {
      "cell_type": "markdown",
      "source": [
        "### CODE DUMP ###"
      ],
      "metadata": {
        "id": "K7GPvf8lR73Z"
      }
    },
    {
      "cell_type": "code",
      "source": [
        "'''import datetime\n",
        "from datetime import datetime\n",
        "time = datetime.now()\n",
        "x = 0\n",
        "start='3:00:00'\n",
        "end='4:00:00'\n",
        "start = datetime.strptime(start,'%H:%M:%S')\n",
        "end=  datetime.strptime(end,'%H:%M:%S')\n",
        "\n",
        "\n",
        "for i in range(len(df)):\n",
        "  if df['time'][i] > start and df['time'][i] <= end:\n",
        "    x = x+1\n",
        "print(x)\n",
        "a_dataframe = pd. DataFrame([[start,end,x]])\n",
        "print(a_dataframe)'''"
      ],
      "metadata": {
        "id": "SFwEUBY1nRzB"
      },
      "execution_count": null,
      "outputs": []
    },
    {
      "cell_type": "code",
      "source": [
        "#import datetime\n",
        "#from datetime import datetime\n",
        "#time = datetime.now()\n",
        "#from datetime import datetime, date, time, timedelta\n",
        "#x = 0\n",
        "#start='0:00:00'\n",
        "#end='1:00:00'\n",
        "#stop='1900-01-02 00:00:00'\n",
        "#start = datetime.strptime(start,'%H:%M:%S')\n",
        "#end=  datetime.strptime(end,'%H:%M:%S')\n",
        "#stop=  datetime.strptime(stop,'%Y-%m-%d %H:%M:%S')\n",
        "\n",
        "#start = datetime(1900, 1, 1, 0, 0, 0) \n",
        "#end = datetime(1900, 1, 1, 0, 15, 0) \n",
        "#stop = datetime(1900, 1, 2, 0, 0, 0) \n",
        "\n",
        "#mins = 15\n",
        "#mins_added = timedelta(minutes = mins)\n",
        "#fifteenmins_dataframe = pd.DataFrame()\n",
        "#while start<end and end<=stop:\n",
        "  #for i in range(len(df)):\n",
        "   # if df['time'][i] > start and df['time'][i] <= end:\n",
        "    #  x = x+1\n",
        "  #fifteenmins_dataframe = fifteenmins_dataframe.append([[start,end,x]])\n",
        "  #x=0\n",
        "  #start = start + timedelta(minutes = 15)\n",
        "  #end = end + timedelta(minutes = 15)\n",
        "\n",
        "#print(fifteenmins_dataframe)\n"
      ],
      "metadata": {
        "id": "CafV_TPVKEbn"
      },
      "execution_count": null,
      "outputs": []
    }
  ]
}