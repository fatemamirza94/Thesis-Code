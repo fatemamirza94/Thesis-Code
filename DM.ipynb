{
  "nbformat": 4,
  "nbformat_minor": 0,
  "metadata": {
    "colab": {
      "name": "DM.ipynb",
      "provenance": []
    },
    "kernelspec": {
      "name": "python3",
      "display_name": "Python 3"
    },
    "language_info": {
      "name": "python"
    }
  },
  "cells": [
    {
      "cell_type": "code",
      "source": [
        "!pip install dm_test"
      ],
      "metadata": {
        "colab": {
          "base_uri": "https://localhost:8080/"
        },
        "id": "mkSh6PQwVING",
        "outputId": "e6538bf2-1566-450b-beab-636862790f32"
      },
      "execution_count": null,
      "outputs": [
        {
          "output_type": "stream",
          "name": "stdout",
          "text": [
            "\u001b[31mERROR: Could not find a version that satisfies the requirement dm_test (from versions: none)\u001b[0m\n",
            "\u001b[31mERROR: No matching distribution found for dm_test\u001b[0m\n"
          ]
        }
      ]
    },
    {
      "cell_type": "code",
      "source": [
        "def dm_test(actual_lst, pred1_lst, pred2_lst, h = 1, crit=\"MSE\", power = 2):\n",
        "    # Routine for checking errors\n",
        "    def error_check():\n",
        "        rt = 0\n",
        "        msg = \"\"\n",
        "        # Check if h is an integer\n",
        "        if (not isinstance(h, int)):\n",
        "            rt = -1\n",
        "            msg = \"The type of the number of steps ahead (h) is not an integer.\"\n",
        "            return (rt,msg)\n",
        "        # Check the range of h\n",
        "        if (h < 1):\n",
        "            rt = -1\n",
        "            msg = \"The number of steps ahead (h) is not large enough.\"\n",
        "            return (rt,msg)\n",
        "        len_act = len(actual_lst)\n",
        "        len_p1  = len(pred1_lst)\n",
        "        len_p2  = len(pred2_lst)\n",
        "        # Check if lengths of actual values and predicted values are equal\n",
        "        if (len_act != len_p1 or len_p1 != len_p2 or len_act != len_p2):\n",
        "            rt = -1\n",
        "            msg = \"Lengths of actual_lst, pred1_lst and pred2_lst do not match.\"\n",
        "            return (rt,msg)\n",
        "        # Check range of h\n",
        "        if (h >= len_act):\n",
        "            rt = -1\n",
        "            msg = \"The number of steps ahead is too large.\"\n",
        "            return (rt,msg)\n",
        "        # Check if criterion supported\n",
        "        if (crit != \"MSE\" and crit != \"MAPE\" and crit != \"MAD\" and crit != \"poly\"):\n",
        "            rt = -1\n",
        "            msg = \"The criterion is not supported.\"\n",
        "            return (rt,msg)  \n",
        "        # Check if every value of the input lists are numerical values\n",
        "        from re import compile as re_compile\n",
        "        comp = re_compile(\"^\\d+?\\.\\d+?$\")  \n",
        "        def compiled_regex(s):\n",
        "            \"\"\" Returns True is string is a number. \"\"\"\n",
        "            if comp.match(s) is None:\n",
        "                return s.isdigit()\n",
        "            return True\n",
        "        for actual, pred1, pred2 in zip(actual_lst, pred1_lst, pred2_lst):\n",
        "            is_actual_ok = compiled_regex(str(abs(actual)))\n",
        "            is_pred1_ok = compiled_regex(str(abs(pred1)))\n",
        "            is_pred2_ok = compiled_regex(str(abs(pred2)))\n",
        "            if (not (is_actual_ok and is_pred1_ok and is_pred2_ok)):  \n",
        "                msg = \"An element in the actual_lst, pred1_lst or pred2_lst is not numeric.\"\n",
        "                rt = -1\n",
        "                return (rt,msg)\n",
        "        return (rt,msg)\n",
        "    \n",
        "    # Error check\n",
        "    error_code = error_check()\n",
        "    # Raise error if cannot pass error check\n",
        "    if (error_code[0] == -1):\n",
        "        raise SyntaxError(error_code[1])\n",
        "        return\n",
        "    # Import libraries\n",
        "    from scipy.stats import t\n",
        "    import collections\n",
        "    import pandas as pd\n",
        "    import numpy as np\n",
        "    \n",
        "    # Initialise lists\n",
        "    e1_lst = []\n",
        "    e2_lst = []\n",
        "    d_lst  = []\n",
        "    \n",
        "    # convert every value of the lists into real values\n",
        "    actual_lst = pd.Series(actual_lst).apply(lambda x: float(x)).tolist()\n",
        "    pred1_lst = pd.Series(pred1_lst).apply(lambda x: float(x)).tolist()\n",
        "    pred2_lst = pd.Series(pred2_lst).apply(lambda x: float(x)).tolist()\n",
        "    \n",
        "    # Length of lists (as real numbers)\n",
        "    T = float(len(actual_lst))\n",
        "    \n",
        "    # construct d according to crit\n",
        "    if (crit == \"MSE\"):\n",
        "        for actual,p1,p2 in zip(actual_lst,pred1_lst,pred2_lst):\n",
        "            e1_lst.append((actual - p1)**2)\n",
        "            e2_lst.append((actual - p2)**2)\n",
        "        for e1, e2 in zip(e1_lst, e2_lst):\n",
        "            d_lst.append(e1 - e2)\n",
        "    elif (crit == \"MAD\"):\n",
        "        for actual,p1,p2 in zip(actual_lst,pred1_lst,pred2_lst):\n",
        "            e1_lst.append(abs(actual - p1))\n",
        "            e2_lst.append(abs(actual - p2))\n",
        "        for e1, e2 in zip(e1_lst, e2_lst):\n",
        "            d_lst.append(e1 - e2)\n",
        "    elif (crit == \"MAPE\"):\n",
        "        for actual,p1,p2 in zip(actual_lst,pred1_lst,pred2_lst):\n",
        "            e1_lst.append(abs((actual - p1)/actual))\n",
        "            e2_lst.append(abs((actual - p2)/actual))\n",
        "        for e1, e2 in zip(e1_lst, e2_lst):\n",
        "            d_lst.append(e1 - e2)\n",
        "    elif (crit == \"poly\"):\n",
        "        for actual,p1,p2 in zip(actual_lst,pred1_lst,pred2_lst):\n",
        "            e1_lst.append(((actual - p1))**(power))\n",
        "            e2_lst.append(((actual - p2))**(power))\n",
        "        for e1, e2 in zip(e1_lst, e2_lst):\n",
        "            d_lst.append(e1 - e2)    \n",
        "    \n",
        "    # Mean of d        \n",
        "    mean_d = pd.Series(d_lst).mean()\n",
        "    \n",
        "    # Find autocovariance and construct DM test statistics\n",
        "    def autocovariance(Xi, N, k, Xs):\n",
        "        autoCov = 0\n",
        "        T = float(N)\n",
        "        for i in np.arange(0, N-k):\n",
        "              autoCov += ((Xi[i+k])-Xs)*(Xi[i]-Xs)\n",
        "        return (1/(T))*autoCov\n",
        "    gamma = []\n",
        "    for lag in range(0,h):\n",
        "        gamma.append(autocovariance(d_lst,len(d_lst),lag,mean_d)) # 0, 1, 2\n",
        "    V_d = (gamma[0] + 2*sum(gamma[1:]))/T\n",
        "    DM_stat=V_d**(-0.5)*mean_d\n",
        "    harvey_adj=((T+1-2*h+h*(h-1)/T)/T)**(0.5)\n",
        "    DM_stat = harvey_adj*DM_stat\n",
        "    # Find p-value\n",
        "    p_value = 2*t.cdf(-abs(DM_stat), df = T - 1)\n",
        "    \n",
        "    # Construct named tuple for return\n",
        "    dm_return = collections.namedtuple('dm_return', 'DM p_value')\n",
        "    \n",
        "    rt = dm_return(DM = DM_stat, p_value = p_value)\n",
        "    \n",
        "    return rt"
      ],
      "metadata": {
        "id": "kTTidUmbVVAe"
      },
      "execution_count": null,
      "outputs": []
    },
    {
      "cell_type": "code",
      "execution_count": null,
      "metadata": {
        "colab": {
          "base_uri": "https://localhost:8080/"
        },
        "id": "anRB2_YXU5iG",
        "outputId": "55b76922-dc73-4f52-9362-0679bf7d8dd4"
      },
      "outputs": [
        {
          "output_type": "stream",
          "name": "stdout",
          "text": [
            "dm_return(DM=-23.686443595310116, p_value=1.4207727844130566e-42)\n",
            "dm_return(DM=-17.946877057490322, p_value=6.87504518085504e-33)\n",
            "dm_return(DM=-11.185280635858524, p_value=2.8995658867069874e-19)\n"
          ]
        }
      ],
      "source": [
        "#from dm_test import dm_test\n",
        "import random\n",
        "\n",
        "random.seed(123)\n",
        "actual_lst = range(0,100)\n",
        "pred1_lst = range(100,200)\n",
        "pred2_lst = range(200,400)\n",
        "\n",
        "actual_lst = random.sample(actual_lst,100)\n",
        "pred1_lst = random.sample(pred1_lst,100)\n",
        "pred2_lst = random.sample(pred2_lst,100)\n",
        "\n",
        "rt = dm_test(actual_lst,pred1_lst,pred2_lst,h = 1, crit=\"MAD\")\n",
        "print(rt)\n",
        "rt = dm_test(actual_lst,pred1_lst,pred2_lst,h = 1, crit=\"MSE\")\n",
        "print(rt)\n",
        "rt = dm_test(actual_lst,pred1_lst,pred2_lst,h = 1, crit=\"MAPE\")\n",
        "print(rt)"
      ]
    }
  ]
}